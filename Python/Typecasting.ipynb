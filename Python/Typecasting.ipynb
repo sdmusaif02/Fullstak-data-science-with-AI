{
 "cells": [
  {
   "cell_type": "markdown",
   "id": "03e04f96-7b3b-41c2-b8c1-59748e3a4211",
   "metadata": {},
   "source": [
    "#casting in python"
   ]
  },
  {
   "cell_type": "code",
   "execution_count": 3,
   "id": "488230f9-243e-435d-97b4-9347017264cc",
   "metadata": {},
   "outputs": [
    {
     "name": "stdout",
     "output_type": "stream",
     "text": [
      "<class 'int'>\n"
     ]
    }
   ],
   "source": [
    "a = 1\n",
    "print(type(a))"
   ]
  },
  {
   "cell_type": "code",
   "execution_count": 4,
   "id": "814be53a-cef1-4de5-8014-72d5e796523c",
   "metadata": {},
   "outputs": [
    {
     "ename": "TypeError",
     "evalue": "unsupported operand type(s) for +: 'int' and 'str'",
     "output_type": "error",
     "traceback": [
      "\u001b[1;31m---------------------------------------------------------------------------\u001b[0m",
      "\u001b[1;31mTypeError\u001b[0m                                 Traceback (most recent call last)",
      "Cell \u001b[1;32mIn[4], line 2\u001b[0m\n\u001b[0;32m      1\u001b[0m b \u001b[38;5;241m=\u001b[39m \u001b[38;5;124m\"\u001b[39m\u001b[38;5;124m1\u001b[39m\u001b[38;5;124m\"\u001b[39m\n\u001b[1;32m----> 2\u001b[0m \u001b[38;5;28mprint\u001b[39m(a\u001b[38;5;241m+\u001b[39mb)\n",
      "\u001b[1;31mTypeError\u001b[0m: unsupported operand type(s) for +: 'int' and 'str'"
     ]
    }
   ],
   "source": [
    "b = \"1\" #unsupported operand type\n",
    "print(a+b)"
   ]
  },
  {
   "cell_type": "code",
   "execution_count": 5,
   "id": "26a7b87e-769c-4dab-9f51-9cd06023603c",
   "metadata": {},
   "outputs": [
    {
     "name": "stdout",
     "output_type": "stream",
     "text": [
      "<class 'str'>\n"
     ]
    }
   ],
   "source": [
    "b = \"1\"\n",
    "print(type(b))"
   ]
  },
  {
   "cell_type": "code",
   "execution_count": 6,
   "id": "f08654d3-3ecf-446b-8b86-811180c37518",
   "metadata": {},
   "outputs": [
    {
     "name": "stdout",
     "output_type": "stream",
     "text": [
      "<class 'int'>\n"
     ]
    }
   ],
   "source": [
    "c = int(b)\n",
    "print(type(c))"
   ]
  },
  {
   "cell_type": "code",
   "execution_count": 7,
   "id": "3787cc58-c980-40c2-9a5d-4b2f916a9256",
   "metadata": {},
   "outputs": [
    {
     "name": "stdout",
     "output_type": "stream",
     "text": [
      "2\n"
     ]
    }
   ],
   "source": [
    "print(a+c)"
   ]
  },
  {
   "cell_type": "code",
   "execution_count": 8,
   "id": "d032daf9-f32b-4f93-a896-fdd380ca0e25",
   "metadata": {},
   "outputs": [
    {
     "name": "stdout",
     "output_type": "stream",
     "text": [
      "2\n"
     ]
    }
   ],
   "source": [
    "print(a+int(b))"
   ]
  },
  {
   "cell_type": "code",
   "execution_count": null,
   "id": "2fba1111-1052-4b72-b856-2caf58ad9ea3",
   "metadata": {},
   "outputs": [],
   "source": [
    "#all str type cant be casted into numerical type"
   ]
  },
  {
   "cell_type": "code",
   "execution_count": null,
   "id": "1d115146-83ec-419a-8806-54a637b7a513",
   "metadata": {},
   "outputs": [],
   "source": [
    "#all numerical type can be cast into string"
   ]
  },
  {
   "cell_type": "code",
   "execution_count": 10,
   "id": "5d95dd55-c9f5-4436-9468-590d24d37a5a",
   "metadata": {},
   "outputs": [],
   "source": [
    "mynum = 26\n",
    "mynum2 = str(mynum)"
   ]
  },
  {
   "cell_type": "code",
   "execution_count": 9,
   "id": "760535f3-45a2-42bb-b92b-128cffb1c33a",
   "metadata": {},
   "outputs": [
    {
     "ename": "ValueError",
     "evalue": "invalid literal for int() with base 10: 'musaif'",
     "output_type": "error",
     "traceback": [
      "\u001b[1;31m---------------------------------------------------------------------------\u001b[0m",
      "\u001b[1;31mValueError\u001b[0m                                Traceback (most recent call last)",
      "Cell \u001b[1;32mIn[9], line 2\u001b[0m\n\u001b[0;32m      1\u001b[0m name \u001b[38;5;241m=\u001b[39m \u001b[38;5;124m\"\u001b[39m\u001b[38;5;124mmusaif\u001b[39m\u001b[38;5;124m\"\u001b[39m\n\u001b[1;32m----> 2\u001b[0m newname \u001b[38;5;241m=\u001b[39m \u001b[38;5;28mint\u001b[39m(name)\n",
      "\u001b[1;31mValueError\u001b[0m: invalid literal for int() with base 10: 'musaif'"
     ]
    }
   ],
   "source": [
    "name = \"musaif\"\n",
    "newname = int(name)"
   ]
  },
  {
   "cell_type": "code",
   "execution_count": 11,
   "id": "669ed5f6-4d21-4163-a569-438f854c9d3b",
   "metadata": {},
   "outputs": [
    {
     "name": "stdout",
     "output_type": "stream",
     "text": [
      "<class 'str'>\n"
     ]
    }
   ],
   "source": [
    "print(type(mynum2))"
   ]
  },
  {
   "cell_type": "code",
   "execution_count": 17,
   "id": "3feac038-6807-436a-ae22-ecf60ee4c264",
   "metadata": {},
   "outputs": [
    {
     "name": "stdout",
     "output_type": "stream",
     "text": [
      "22\n",
      "<class 'int'>\n"
     ]
    }
   ],
   "source": [
    "f1 = 22.56\n",
    "f2 = int(f1)\n",
    "print(f2)\n",
    "print(type(f2))\n"
   ]
  },
  {
   "cell_type": "markdown",
   "id": "907e5138-cd5b-4903-a2b8-206a8412514b",
   "metadata": {},
   "source": [
    "#implecit type casting"
   ]
  },
  {
   "cell_type": "code",
   "execution_count": 21,
   "id": "3fd1c622-4bdf-403a-beb2-d64dc4cb2365",
   "metadata": {},
   "outputs": [
    {
     "name": "stdout",
     "output_type": "stream",
     "text": [
      "25.5\n",
      "<class 'float'>\n"
     ]
    }
   ],
   "source": [
    "var1 = 10 #int type\n",
    "var2 = 15.5 #float type\n",
    "var3 = var1+var2\n",
    "print(var3)\n",
    "print(type(var3))"
   ]
  },
  {
   "cell_type": "code",
   "execution_count": null,
   "id": "73cfbff3-567d-455c-b6ef-651ee21662d0",
   "metadata": {},
   "outputs": [],
   "source": [
    "#explicit type casting"
   ]
  },
  {
   "cell_type": "code",
   "execution_count": 22,
   "id": "810d805b-47c3-46f6-8ff2-60be475374e1",
   "metadata": {},
   "outputs": [],
   "source": [
    "int_num = 101\n",
    "str_num = str(int_num)"
   ]
  },
  {
   "cell_type": "code",
   "execution_count": 23,
   "id": "2947c268-760d-41b6-b670-b2aa17776fdc",
   "metadata": {},
   "outputs": [
    {
     "name": "stdout",
     "output_type": "stream",
     "text": [
      "<class 'str'>\n"
     ]
    }
   ],
   "source": [
    "print(type(str_num))"
   ]
  },
  {
   "cell_type": "code",
   "execution_count": null,
   "id": "6de78edf-e279-4c0b-8024-f7fe2d005c94",
   "metadata": {},
   "outputs": [],
   "source": [
    "#boolean"
   ]
  },
  {
   "cell_type": "code",
   "execution_count": 27,
   "id": "0ea0fd28-3b59-44f3-ab85-0058f21b88a3",
   "metadata": {},
   "outputs": [
    {
     "name": "stdout",
     "output_type": "stream",
     "text": [
      "False\n",
      "<class 'bool'>\n"
     ]
    }
   ],
   "source": [
    "a0 = bool(0)\n",
    "print(a0)\n",
    "print(type(a0))"
   ]
  },
  {
   "cell_type": "code",
   "execution_count": 28,
   "id": "60d37f24-2f35-4012-861b-cd89be23a576",
   "metadata": {},
   "outputs": [
    {
     "name": "stdout",
     "output_type": "stream",
     "text": [
      "True\n",
      "<class 'bool'>\n"
     ]
    }
   ],
   "source": [
    "a1 = bool(1)\n",
    "print(a1)\n",
    "print(type(a1))"
   ]
  }
 ],
 "metadata": {
  "kernelspec": {
   "display_name": "Python 3 (ipykernel)",
   "language": "python",
   "name": "python3"
  },
  "language_info": {
   "codemirror_mode": {
    "name": "ipython",
    "version": 3
   },
   "file_extension": ".py",
   "mimetype": "text/x-python",
   "name": "python",
   "nbconvert_exporter": "python",
   "pygments_lexer": "ipython3",
   "version": "3.12.7"
  }
 },
 "nbformat": 4,
 "nbformat_minor": 5
}
