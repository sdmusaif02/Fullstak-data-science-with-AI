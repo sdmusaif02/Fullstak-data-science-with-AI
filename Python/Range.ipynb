{
 "cells": [
  {
   "cell_type": "code",
   "execution_count": 1,
   "id": "163c6a50-535b-4346-b22d-f52c0a383e2f",
   "metadata": {},
   "outputs": [
    {
     "data": {
      "text/plain": [
       "range(0, 5)"
      ]
     },
     "execution_count": 1,
     "metadata": {},
     "output_type": "execute_result"
    }
   ],
   "source": [
    "range(5)"
   ]
  },
  {
   "cell_type": "code",
   "execution_count": 2,
   "id": "d6575821-5d00-42b8-8586-526b2fbca56e",
   "metadata": {},
   "outputs": [
    {
     "data": {
      "text/plain": [
       "[0, 1, 2, 3, 4]"
      ]
     },
     "execution_count": 2,
     "metadata": {},
     "output_type": "execute_result"
    }
   ],
   "source": [
    "list(range(0,5))"
   ]
  },
  {
   "cell_type": "code",
   "execution_count": 3,
   "id": "767a78d6-95c0-4803-87e3-42ce2a993752",
   "metadata": {},
   "outputs": [
    {
     "data": {
      "text/plain": [
       "range(10, 20)"
      ]
     },
     "execution_count": 3,
     "metadata": {},
     "output_type": "execute_result"
    }
   ],
   "source": [
    "range(10,20)"
   ]
  },
  {
   "cell_type": "code",
   "execution_count": 4,
   "id": "d5a7f7df-6c86-476e-abeb-c1e14a1c81df",
   "metadata": {},
   "outputs": [
    {
     "data": {
      "text/plain": [
       "[10, 11, 12, 13, 14, 15, 16, 17, 18, 19]"
      ]
     },
     "execution_count": 4,
     "metadata": {},
     "output_type": "execute_result"
    }
   ],
   "source": [
    "list(range(10,20))"
   ]
  },
  {
   "cell_type": "code",
   "execution_count": 5,
   "id": "cd8d3b66-b188-458f-b23c-cca0003cbc35",
   "metadata": {},
   "outputs": [
    {
     "data": {
      "text/plain": [
       "range(10, 20, 3)"
      ]
     },
     "execution_count": 5,
     "metadata": {},
     "output_type": "execute_result"
    }
   ],
   "source": [
    "range(10,20,3)"
   ]
  },
  {
   "cell_type": "code",
   "execution_count": 8,
   "id": "28600726-e70f-43e9-822e-e1136b856a2a",
   "metadata": {},
   "outputs": [
    {
     "data": {
      "text/plain": [
       "[10, 15]"
      ]
     },
     "execution_count": 8,
     "metadata": {},
     "output_type": "execute_result"
    }
   ],
   "source": [
    "list(range(10,20,5))"
   ]
  },
  {
   "cell_type": "code",
   "execution_count": 9,
   "id": "08c0339d-de35-43a8-9119-a19adc29249d",
   "metadata": {},
   "outputs": [
    {
     "ename": "TypeError",
     "evalue": "range expected at most 3 arguments, got 4",
     "output_type": "error",
     "traceback": [
      "\u001b[1;31m---------------------------------------------------------------------------\u001b[0m",
      "\u001b[1;31mTypeError\u001b[0m                                 Traceback (most recent call last)",
      "Cell \u001b[1;32mIn[9], line 1\u001b[0m\n\u001b[1;32m----> 1\u001b[0m \u001b[38;5;28mrange\u001b[39m(\u001b[38;5;241m10\u001b[39m,\u001b[38;5;241m20\u001b[39m,\u001b[38;5;241m30\u001b[39m,\u001b[38;5;241m40\u001b[39m)\n",
      "\u001b[1;31mTypeError\u001b[0m: range expected at most 3 arguments, got 4"
     ]
    }
   ],
   "source": [
    "range(10,20,30,40)"
   ]
  },
  {
   "cell_type": "code",
   "execution_count": 10,
   "id": "041c5aea-7e55-4f2a-8ecd-2b14ce186a2d",
   "metadata": {},
   "outputs": [],
   "source": [
    "r = range(0,11,5)"
   ]
  },
  {
   "cell_type": "code",
   "execution_count": 11,
   "id": "e56696da-4f8b-421b-98e7-22a024307d77",
   "metadata": {},
   "outputs": [
    {
     "data": {
      "text/plain": [
       "range(0, 11, 5)"
      ]
     },
     "execution_count": 11,
     "metadata": {},
     "output_type": "execute_result"
    }
   ],
   "source": [
    "r"
   ]
  },
  {
   "cell_type": "code",
   "execution_count": 13,
   "id": "e0e653a6-9db7-4cfa-9e22-911175b95ec3",
   "metadata": {},
   "outputs": [
    {
     "name": "stdout",
     "output_type": "stream",
     "text": [
      "0\n",
      "5\n",
      "10\n"
     ]
    }
   ],
   "source": [
    "for i in r:\n",
    "    print(i)"
   ]
  },
  {
   "cell_type": "code",
   "execution_count": 14,
   "id": "f299b7d9-84fe-4729-a973-4ba17b960d86",
   "metadata": {},
   "outputs": [
    {
     "data": {
      "text/plain": [
       "[0, 5, 10]"
      ]
     },
     "execution_count": 14,
     "metadata": {},
     "output_type": "execute_result"
    }
   ],
   "source": [
    "list(r)"
   ]
  },
  {
   "cell_type": "markdown",
   "id": "35941eb8-eb42-4d80-8317-58549ecc465a",
   "metadata": {},
   "source": [
    "# advance slicing"
   ]
  },
  {
   "cell_type": "code",
   "execution_count": 17,
   "id": "d3346b8f-3367-4536-b4bf-24a68f372063",
   "metadata": {},
   "outputs": [
    {
     "data": {
      "text/plain": [
       "['a', 'b', 'c', 1, 2.3, 45, True, (1+2j)]"
      ]
     },
     "execution_count": 17,
     "metadata": {},
     "output_type": "execute_result"
    }
   ],
   "source": [
    "l1 =['a','b','c',1,2.3,45,True,(1+2j)]\n",
    "l1"
   ]
  },
  {
   "cell_type": "code",
   "execution_count": 19,
   "id": "738a252b-fd3a-49ff-b835-16e28d9146e3",
   "metadata": {},
   "outputs": [
    {
     "data": {
      "text/plain": [
       "[1, 2.3, 45, True, (1+2j)]"
      ]
     },
     "execution_count": 19,
     "metadata": {},
     "output_type": "execute_result"
    }
   ],
   "source": [
    "l1[3:]"
   ]
  },
  {
   "cell_type": "code",
   "execution_count": 20,
   "id": "1c7b6168-f51a-4dea-a908-fa332a1dd102",
   "metadata": {},
   "outputs": [
    {
     "data": {
      "text/plain": [
       "[1, 2.3, 45, True, (1+2j)]"
      ]
     },
     "execution_count": 20,
     "metadata": {},
     "output_type": "execute_result"
    }
   ],
   "source": [
    "l1[-5:]"
   ]
  },
  {
   "cell_type": "code",
   "execution_count": 21,
   "id": "023420d1-e11c-4527-83ee-c2fe60635f54",
   "metadata": {},
   "outputs": [
    {
     "data": {
      "text/plain": [
       "45"
      ]
     },
     "execution_count": 21,
     "metadata": {},
     "output_type": "execute_result"
    }
   ],
   "source": [
    "l1[5]"
   ]
  },
  {
   "cell_type": "code",
   "execution_count": 22,
   "id": "68146b97-09b5-4ffc-a1c4-2becd50a90b3",
   "metadata": {},
   "outputs": [
    {
     "data": {
      "text/plain": [
       "1"
      ]
     },
     "execution_count": 22,
     "metadata": {},
     "output_type": "execute_result"
    }
   ],
   "source": [
    "l1[-5]"
   ]
  },
  {
   "cell_type": "code",
   "execution_count": 24,
   "id": "cc03fbcd-4145-4008-8a85-8489a725f655",
   "metadata": {},
   "outputs": [
    {
     "data": {
      "text/plain": [
       "['a', 'b', 'c', 1, 2.3, 45, True, (1+2j)]"
      ]
     },
     "execution_count": 24,
     "metadata": {},
     "output_type": "execute_result"
    }
   ],
   "source": [
    "l1\n"
   ]
  },
  {
   "cell_type": "code",
   "execution_count": 25,
   "id": "325bcd12-496e-41b9-a4fe-de92a5bc5a50",
   "metadata": {},
   "outputs": [
    {
     "data": {
      "text/plain": [
       "['c', 1, 2.3, 45, True, (1+2j)]"
      ]
     },
     "execution_count": 25,
     "metadata": {},
     "output_type": "execute_result"
    }
   ],
   "source": [
    "l1[2:9]"
   ]
  },
  {
   "cell_type": "code",
   "execution_count": 26,
   "id": "3f38e6f3-e90e-47cd-9971-7bc356579d90",
   "metadata": {},
   "outputs": [
    {
     "data": {
      "text/plain": [
       "['c', 1, 2.3, 45, True]"
      ]
     },
     "execution_count": 26,
     "metadata": {},
     "output_type": "execute_result"
    }
   ],
   "source": [
    "l1[2:7]"
   ]
  },
  {
   "cell_type": "code",
   "execution_count": 27,
   "id": "645c25d4-a657-4aaf-82d0-de06524cb337",
   "metadata": {},
   "outputs": [
    {
     "data": {
      "text/plain": [
       "['c', 2.3, True]"
      ]
     },
     "execution_count": 27,
     "metadata": {},
     "output_type": "execute_result"
    }
   ],
   "source": [
    "l1[2:7:2]"
   ]
  },
  {
   "cell_type": "code",
   "execution_count": 28,
   "id": "57d46ee2-0e45-414c-95c3-b361d12e91eb",
   "metadata": {},
   "outputs": [
    {
     "data": {
      "text/plain": [
       "['a', 45]"
      ]
     },
     "execution_count": 28,
     "metadata": {},
     "output_type": "execute_result"
    }
   ],
   "source": [
    "l1[0:7:5]"
   ]
  },
  {
   "cell_type": "code",
   "execution_count": 29,
   "id": "401a54b9-2a9b-4904-acf4-f0964826761d",
   "metadata": {},
   "outputs": [
    {
     "data": {
      "text/plain": [
       "[]"
      ]
     },
     "execution_count": 29,
     "metadata": {},
     "output_type": "execute_result"
    }
   ],
   "source": [
    "l1[-5:3]"
   ]
  },
  {
   "cell_type": "code",
   "execution_count": 30,
   "id": "9b0cc7ce-feee-43c2-8f59-0364f6e73db5",
   "metadata": {},
   "outputs": [
    {
     "data": {
      "text/plain": [
       "[1, 2.3]"
      ]
     },
     "execution_count": 30,
     "metadata": {},
     "output_type": "execute_result"
    }
   ],
   "source": [
    "l1[-5:-3]"
   ]
  },
  {
   "cell_type": "code",
   "execution_count": null,
   "id": "28843427-aab9-4db0-8c55-6283d5882ac7",
   "metadata": {},
   "outputs": [],
   "source": []
  }
 ],
 "metadata": {
  "kernelspec": {
   "display_name": "Python [conda env:base] *",
   "language": "python",
   "name": "conda-base-py"
  },
  "language_info": {
   "codemirror_mode": {
    "name": "ipython",
    "version": 3
   },
   "file_extension": ".py",
   "mimetype": "text/x-python",
   "name": "python",
   "nbconvert_exporter": "python",
   "pygments_lexer": "ipython3",
   "version": "3.12.7"
  }
 },
 "nbformat": 4,
 "nbformat_minor": 5
}
