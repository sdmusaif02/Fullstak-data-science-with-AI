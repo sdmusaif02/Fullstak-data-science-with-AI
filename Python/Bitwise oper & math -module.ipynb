{
 "cells": [
  {
   "cell_type": "code",
   "execution_count": 1,
   "id": "b8a95799-4d84-43ac-b610-91fc66b29b0b",
   "metadata": {},
   "outputs": [],
   "source": [
    "a , b = 25,30"
   ]
  },
  {
   "cell_type": "code",
   "execution_count": 2,
   "id": "6eca8416-e567-4231-ad38-b6d8a1f03ec0",
   "metadata": {},
   "outputs": [
    {
     "name": "stdout",
     "output_type": "stream",
     "text": [
      "25\n",
      "30\n"
     ]
    }
   ],
   "source": [
    "print(a)\n",
    "print(b)"
   ]
  },
  {
   "cell_type": "code",
   "execution_count": 3,
   "id": "68853720-85d9-484a-ba0e-b8e8f5d99c92",
   "metadata": {},
   "outputs": [
    {
     "name": "stdout",
     "output_type": "stream",
     "text": [
      "0b11001\n",
      "0b11110\n"
     ]
    }
   ],
   "source": [
    "print(bin(a))\n",
    "print(bin(b))"
   ]
  },
  {
   "cell_type": "code",
   "execution_count": 4,
   "id": "01f39726-caa5-4957-a29f-9fa9097b6419",
   "metadata": {},
   "outputs": [
    {
     "data": {
      "text/plain": [
       "24"
      ]
     },
     "execution_count": 4,
     "metadata": {},
     "output_type": "execute_result"
    }
   ],
   "source": [
    "a & b "
   ]
  },
  {
   "cell_type": "code",
   "execution_count": 6,
   "id": "ba3f693e-8b3a-4268-b61e-f36d9fd94c0d",
   "metadata": {},
   "outputs": [
    {
     "data": {
      "text/plain": [
       "'0b11000'"
      ]
     },
     "execution_count": 6,
     "metadata": {},
     "output_type": "execute_result"
    }
   ],
   "source": [
    "bin(24)"
   ]
  },
  {
   "cell_type": "code",
   "execution_count": 7,
   "id": "49796c36-5470-4785-8cd5-7ff3d9627b20",
   "metadata": {},
   "outputs": [
    {
     "data": {
      "text/plain": [
       "31"
      ]
     },
     "execution_count": 7,
     "metadata": {},
     "output_type": "execute_result"
    }
   ],
   "source": [
    "a | b"
   ]
  },
  {
   "cell_type": "code",
   "execution_count": 8,
   "id": "86a21b91-f513-42f0-a1e5-c15e692eddd0",
   "metadata": {},
   "outputs": [
    {
     "data": {
      "text/plain": [
       "'0b11111'"
      ]
     },
     "execution_count": 8,
     "metadata": {},
     "output_type": "execute_result"
    }
   ],
   "source": [
    "bin(31)"
   ]
  },
  {
   "cell_type": "code",
   "execution_count": 9,
   "id": "ddef9380-80cf-4e03-8320-b7ec26b04676",
   "metadata": {},
   "outputs": [
    {
     "data": {
      "text/plain": [
       "-32"
      ]
     },
     "execution_count": 9,
     "metadata": {},
     "output_type": "execute_result"
    }
   ],
   "source": [
    "~31"
   ]
  },
  {
   "cell_type": "code",
   "execution_count": 10,
   "id": "a6c434c9-ad8e-4350-b2fb-0ec4546465f5",
   "metadata": {},
   "outputs": [
    {
     "data": {
      "text/plain": [
       "-26"
      ]
     },
     "execution_count": 10,
     "metadata": {},
     "output_type": "execute_result"
    }
   ],
   "source": [
    "~25\n"
   ]
  },
  {
   "cell_type": "code",
   "execution_count": 11,
   "id": "4dece2db-06c6-4220-99e4-ea1d17f8368d",
   "metadata": {},
   "outputs": [
    {
     "data": {
      "text/plain": [
       "1"
      ]
     },
     "execution_count": 11,
     "metadata": {},
     "output_type": "execute_result"
    }
   ],
   "source": [
    "30 ^ 31"
   ]
  },
  {
   "cell_type": "code",
   "execution_count": 22,
   "id": "72737119-6c1e-48f2-9029-0b4176151b27",
   "metadata": {},
   "outputs": [],
   "source": [
    "# left shift"
   ]
  },
  {
   "cell_type": "code",
   "execution_count": 12,
   "id": "cada647d-755d-4071-aaab-e47cd8afd6cc",
   "metadata": {},
   "outputs": [
    {
     "data": {
      "text/plain": [
       "'0b1'"
      ]
     },
     "execution_count": 12,
     "metadata": {},
     "output_type": "execute_result"
    }
   ],
   "source": [
    "bin(1) # (adds 0s at right)"
   ]
  },
  {
   "cell_type": "code",
   "execution_count": 13,
   "id": "118477dc-48bb-41a0-a22c-57364d7b4d45",
   "metadata": {},
   "outputs": [
    {
     "data": {
      "text/plain": [
       "'0b10100'"
      ]
     },
     "execution_count": 13,
     "metadata": {},
     "output_type": "execute_result"
    }
   ],
   "source": [
    "bin(20)"
   ]
  },
  {
   "cell_type": "code",
   "execution_count": 14,
   "id": "2f8dabca-1643-4cb6-b6ee-35806baca60f",
   "metadata": {},
   "outputs": [
    {
     "data": {
      "text/plain": [
       "40"
      ]
     },
     "execution_count": 14,
     "metadata": {},
     "output_type": "execute_result"
    }
   ],
   "source": [
    "20 << 1"
   ]
  },
  {
   "cell_type": "code",
   "execution_count": 15,
   "id": "9650cc8e-2c83-4e17-9c17-c75003f83632",
   "metadata": {},
   "outputs": [
    {
     "data": {
      "text/plain": [
       "'0b1010'"
      ]
     },
     "execution_count": 15,
     "metadata": {},
     "output_type": "execute_result"
    }
   ],
   "source": [
    "bin(10)"
   ]
  },
  {
   "cell_type": "code",
   "execution_count": 18,
   "id": "598f2598-f100-4f2d-89b2-85d6a2199917",
   "metadata": {},
   "outputs": [
    {
     "data": {
      "text/plain": [
       "20"
      ]
     },
     "execution_count": 18,
     "metadata": {},
     "output_type": "execute_result"
    }
   ],
   "source": [
    "10 << 1"
   ]
  },
  {
   "cell_type": "code",
   "execution_count": 23,
   "id": "7780da23-fb45-493b-95d7-e98456738472",
   "metadata": {},
   "outputs": [],
   "source": [
    "# Right shift"
   ]
  },
  {
   "cell_type": "code",
   "execution_count": 24,
   "id": "28362793-061a-418a-9244-3ce26313bd13",
   "metadata": {},
   "outputs": [
    {
     "data": {
      "text/plain": [
       "'0b1010'"
      ]
     },
     "execution_count": 24,
     "metadata": {},
     "output_type": "execute_result"
    }
   ],
   "source": [
    "bin(10) # (drops bits at right)"
   ]
  },
  {
   "cell_type": "code",
   "execution_count": 25,
   "id": "3bd0efe2-8c76-4f62-9e8d-52170c9018af",
   "metadata": {},
   "outputs": [
    {
     "data": {
      "text/plain": [
       "5"
      ]
     },
     "execution_count": 25,
     "metadata": {},
     "output_type": "execute_result"
    }
   ],
   "source": [
    "10 >> 1"
   ]
  },
  {
   "cell_type": "code",
   "execution_count": 26,
   "id": "dbbf129a-7f8c-4d8e-aaa0-096423c3fbc6",
   "metadata": {},
   "outputs": [
    {
     "data": {
      "text/plain": [
       "'0b10100'"
      ]
     },
     "execution_count": 26,
     "metadata": {},
     "output_type": "execute_result"
    }
   ],
   "source": [
    "bin(20)"
   ]
  },
  {
   "cell_type": "code",
   "execution_count": 27,
   "id": "3bdc5c11-c389-406b-9b3e-6d9931d81edc",
   "metadata": {},
   "outputs": [
    {
     "data": {
      "text/plain": [
       "10"
      ]
     },
     "execution_count": 27,
     "metadata": {},
     "output_type": "execute_result"
    }
   ],
   "source": [
    "20 >> 1"
   ]
  },
  {
   "cell_type": "code",
   "execution_count": 28,
   "id": "32bb7edf-b1b0-4e1e-970e-d211d4851106",
   "metadata": {},
   "outputs": [],
   "source": [
    "# Math Module"
   ]
  },
  {
   "cell_type": "code",
   "execution_count": 30,
   "id": "e2291384-4d08-4bc4-8b10-8f4ee0f35e54",
   "metadata": {},
   "outputs": [],
   "source": [
    "import math # we need to import math without import math function not work.."
   ]
  },
  {
   "cell_type": "code",
   "execution_count": 32,
   "id": "c2140e2b-d9b4-4ad6-bdb4-2f8d4b72624d",
   "metadata": {},
   "outputs": [
    {
     "data": {
      "text/plain": [
       "4.0"
      ]
     },
     "execution_count": 32,
     "metadata": {},
     "output_type": "execute_result"
    }
   ],
   "source": [
    "math.sqrt(16) "
   ]
  },
  {
   "cell_type": "code",
   "execution_count": 33,
   "id": "2a67b0ad-c74a-4cbe-aeb5-47030b94118a",
   "metadata": {},
   "outputs": [
    {
     "data": {
      "text/plain": [
       "2"
      ]
     },
     "execution_count": 33,
     "metadata": {},
     "output_type": "execute_result"
    }
   ],
   "source": [
    "math.floor(2.9)"
   ]
  },
  {
   "cell_type": "code",
   "execution_count": 34,
   "id": "f9156b58-9ee2-43ee-bff1-e1286614da47",
   "metadata": {},
   "outputs": [
    {
     "data": {
      "text/plain": [
       "3"
      ]
     },
     "execution_count": 34,
     "metadata": {},
     "output_type": "execute_result"
    }
   ],
   "source": [
    " math.ceil(2.9)"
   ]
  },
  {
   "cell_type": "code",
   "execution_count": 36,
   "id": "0a2369c5-45ed-424e-b33e-35154def972f",
   "metadata": {},
   "outputs": [
    {
     "data": {
      "text/plain": [
       "3.141592653589793"
      ]
     },
     "execution_count": 36,
     "metadata": {},
     "output_type": "execute_result"
    }
   ],
   "source": [
    "math.pi"
   ]
  },
  {
   "cell_type": "code",
   "execution_count": 37,
   "id": "b88ada56-262e-446c-b2f4-1f85668cb9a2",
   "metadata": {},
   "outputs": [
    {
     "data": {
      "text/plain": [
       "9.0"
      ]
     },
     "execution_count": 37,
     "metadata": {},
     "output_type": "execute_result"
    }
   ],
   "source": [
    "math.pow(3,2)"
   ]
  },
  {
   "cell_type": "code",
   "execution_count": null,
   "id": "708f2cf3-a20b-4dd2-b30c-2a6a542a4628",
   "metadata": {},
   "outputs": [],
   "source": []
  }
 ],
 "metadata": {
  "kernelspec": {
   "display_name": "Python [conda env:base] *",
   "language": "python",
   "name": "conda-base-py"
  },
  "language_info": {
   "codemirror_mode": {
    "name": "ipython",
    "version": 3
   },
   "file_extension": ".py",
   "mimetype": "text/x-python",
   "name": "python",
   "nbconvert_exporter": "python",
   "pygments_lexer": "ipython3",
   "version": "3.12.7"
  }
 },
 "nbformat": 4,
 "nbformat_minor": 5
}
