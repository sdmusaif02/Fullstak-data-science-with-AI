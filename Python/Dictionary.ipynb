{
 "cells": [
  {
   "cell_type": "markdown",
   "id": "356ffd38-5fc0-4d9d-96b5-b1e09a6e908d",
   "metadata": {},
   "source": [
    "#Dictionary"
   ]
  },
  {
   "cell_type": "code",
   "execution_count": 2,
   "id": "0c3f9976-69b2-4a34-8d70-b56a044520aa",
   "metadata": {},
   "outputs": [],
   "source": [
    "# my_dic = {'key1' : 'value1', 'key2' : 'value2',}"
   ]
  },
  {
   "cell_type": "code",
   "execution_count": 3,
   "id": "73deac0a-8a49-4767-b9c1-00e6f8fec9c2",
   "metadata": {},
   "outputs": [],
   "source": [
    "cohort = {'course':'python','instructor':'musaif syed','level':'bigginer'}"
   ]
  },
  {
   "cell_type": "code",
   "execution_count": 4,
   "id": "a78fff9b-d3cc-4c7a-b31f-72471c75a24c",
   "metadata": {},
   "outputs": [
    {
     "name": "stdout",
     "output_type": "stream",
     "text": [
      "{'course': 'python', 'instructor': 'musaif syed', 'level': 'bigginer'}\n"
     ]
    }
   ],
   "source": [
    "print(cohort)"
   ]
  },
  {
   "cell_type": "code",
   "execution_count": 5,
   "id": "eac090cc-41cf-478c-8b84-6154a1aae24d",
   "metadata": {},
   "outputs": [
    {
     "name": "stdout",
     "output_type": "stream",
     "text": [
      "<class 'dict'>\n"
     ]
    }
   ],
   "source": [
    "print(type(cohort))"
   ]
  },
  {
   "cell_type": "code",
   "execution_count": 6,
   "id": "9dad7a8b-8ecb-479f-ab38-c8ff2c8886cb",
   "metadata": {},
   "outputs": [],
   "source": [
    "# method-2 using dict() constuctor"
   ]
  },
  {
   "cell_type": "code",
   "execution_count": 7,
   "id": "0cb708f0-6cd7-4593-9057-cf19227cbb9f",
   "metadata": {},
   "outputs": [],
   "source": [
    "person = dict(name='musaif',age=20, grade='A')"
   ]
  },
  {
   "cell_type": "code",
   "execution_count": 8,
   "id": "c71ad551-7219-4248-8f83-d34bcbfca246",
   "metadata": {},
   "outputs": [
    {
     "name": "stdout",
     "output_type": "stream",
     "text": [
      "{'name': 'musaif', 'age': 20, 'grade': 'A'}\n"
     ]
    }
   ],
   "source": [
    "print(person)"
   ]
  },
  {
   "cell_type": "code",
   "execution_count": 10,
   "id": "f97c8a4d-a2d4-470e-9300-446bd8f1d1b3",
   "metadata": {},
   "outputs": [
    {
     "name": "stdout",
     "output_type": "stream",
     "text": [
      "<class 'dict'>\n"
     ]
    }
   ],
   "source": [
    "print(type(person))"
   ]
  },
  {
   "cell_type": "markdown",
   "id": "5f33d48a-32fd-47d7-a514-139ffbaa4792",
   "metadata": {},
   "source": [
    "#method-3 using list of tuples"
   ]
  },
  {
   "cell_type": "code",
   "execution_count": 14,
   "id": "c7b63d35-8072-45ac-9c27-f37252385878",
   "metadata": {},
   "outputs": [
    {
     "name": "stdout",
     "output_type": "stream",
     "text": [
      "{'name': 'musaif', 'age': 20, 'city': 'delhi'}\n",
      "<class 'dict'>\n"
     ]
    }
   ],
   "source": [
    "person2 = dict([('name', 'musaif'), ('age', 20), ('city', 'delhi')])\n",
    "print(person2)\n",
    "print(type(person2))"
   ]
  },
  {
   "cell_type": "code",
   "execution_count": 15,
   "id": "086439a2-9066-448d-82de-8ac42ca2deb3",
   "metadata": {},
   "outputs": [],
   "source": [
    "#access dictionary values"
   ]
  },
  {
   "cell_type": "code",
   "execution_count": 18,
   "id": "3785acd8-9257-47e1-8f8c-337a666b025c",
   "metadata": {},
   "outputs": [],
   "source": [
    "student = {\n",
    "    1:'class-10',\n",
    "    'name':'musaif',\n",
    "    'grade':'A',\n",
    "    'city':'pune'\n",
    "    }"
   ]
  },
  {
   "cell_type": "code",
   "execution_count": 19,
   "id": "3ea4f829-8734-415b-b26d-87ea4d2ac14c",
   "metadata": {},
   "outputs": [
    {
     "name": "stdout",
     "output_type": "stream",
     "text": [
      "{1: 'class-10', 'name': 'musaif', 'grade': 'A', 'city': 'pune'}\n"
     ]
    }
   ],
   "source": [
    "print(student)"
   ]
  },
  {
   "cell_type": "code",
   "execution_count": 20,
   "id": "244741db-f867-4665-9dfc-cf1a88e9670a",
   "metadata": {},
   "outputs": [
    {
     "name": "stdout",
     "output_type": "stream",
     "text": [
      "<class 'dict'>\n"
     ]
    }
   ],
   "source": [
    "print(type(student))"
   ]
  },
  {
   "cell_type": "code",
   "execution_count": 23,
   "id": "a295fd72-2c38-479d-b2e7-9a093e51f964",
   "metadata": {},
   "outputs": [
    {
     "name": "stdout",
     "output_type": "stream",
     "text": [
      "musaif\n",
      "pune\n",
      "A\n"
     ]
    }
   ],
   "source": [
    "print(student['name'])\n",
    "print(student['city'])\n",
    "print(student['grade'])"
   ]
  },
  {
   "cell_type": "code",
   "execution_count": 24,
   "id": "649a7247-8f16-49fe-ae06-2744d071b24a",
   "metadata": {},
   "outputs": [],
   "source": [
    "#Dictionary method"
   ]
  },
  {
   "cell_type": "code",
   "execution_count": 25,
   "id": "1fcf1c76-db9d-4757-8d3e-ba84c7c46a44",
   "metadata": {},
   "outputs": [],
   "source": [
    "student = {\n",
    "    1:'class-10',\n",
    "    'name':'musaif',\n",
    "    'grade':'A',\n",
    "    'city':'pune'\n",
    "    }"
   ]
  },
  {
   "cell_type": "code",
   "execution_count": 26,
   "id": "5074348a-b07f-41d9-9aaa-920dee65c090",
   "metadata": {},
   "outputs": [],
   "source": [
    "#keys"
   ]
  },
  {
   "cell_type": "code",
   "execution_count": 27,
   "id": "aa065212-dc29-4dc3-850c-d7b31ccf023f",
   "metadata": {},
   "outputs": [
    {
     "name": "stdout",
     "output_type": "stream",
     "text": [
      "dict_keys([1, 'name', 'grade', 'city'])\n"
     ]
    }
   ],
   "source": [
    "print(student.keys())"
   ]
  },
  {
   "cell_type": "code",
   "execution_count": 28,
   "id": "c21b09a6-f3e6-472e-a61c-c29403239ee0",
   "metadata": {},
   "outputs": [],
   "source": [
    "#values"
   ]
  },
  {
   "cell_type": "code",
   "execution_count": 29,
   "id": "26d471e1-c104-4154-a2bd-8228d62ca719",
   "metadata": {},
   "outputs": [
    {
     "name": "stdout",
     "output_type": "stream",
     "text": [
      "dict_values(['class-10', 'musaif', 'A', 'pune'])\n"
     ]
    }
   ],
   "source": [
    "print(student.values())"
   ]
  },
  {
   "cell_type": "code",
   "execution_count": 30,
   "id": "8187686f-ffa3-4529-8760-a7b03a98007f",
   "metadata": {},
   "outputs": [],
   "source": [
    "#items"
   ]
  },
  {
   "cell_type": "code",
   "execution_count": 32,
   "id": "c0d10628-c6a9-4d9c-9954-f569144084c4",
   "metadata": {},
   "outputs": [
    {
     "name": "stdout",
     "output_type": "stream",
     "text": [
      "dict_items([(1, 'class-10'), ('name', 'musaif'), ('grade', 'A'), ('city', 'pune')])\n"
     ]
    }
   ],
   "source": [
    "print(student.items())"
   ]
  },
  {
   "cell_type": "code",
   "execution_count": 33,
   "id": "b225656c-1bb5-46cd-92e1-0f1f369f4658",
   "metadata": {},
   "outputs": [],
   "source": [
    "#get"
   ]
  },
  {
   "cell_type": "code",
   "execution_count": 38,
   "id": "87ff33aa-6552-4477-afc3-391ed0fe0da3",
   "metadata": {},
   "outputs": [
    {
     "name": "stdout",
     "output_type": "stream",
     "text": [
      "musaif\n",
      "musaif\n",
      "welcome\n"
     ]
    }
   ],
   "source": [
    "print(student.get('name'))\n",
    "print(student['name'])\n",
    "print(student.get('email','welcome'))"
   ]
  },
  {
   "cell_type": "code",
   "execution_count": 1,
   "id": "0f054e88-7783-4cac-827e-42c1fb3b3c92",
   "metadata": {},
   "outputs": [],
   "source": [
    "#add/modify items in dictionary"
   ]
  },
  {
   "cell_type": "code",
   "execution_count": 2,
   "id": "8934b0af-b2ef-451e-a0fc-67010d227121",
   "metadata": {},
   "outputs": [],
   "source": [
    "student = {\n",
    "    'name':'musaif',\n",
    "    'grade':'A',\n",
    "    'city':'pune'\n",
    "    }"
   ]
  },
  {
   "cell_type": "code",
   "execution_count": 3,
   "id": "980d6193-9055-4d5e-98d0-e85931c53c7d",
   "metadata": {},
   "outputs": [],
   "source": [
    "#add item - assign operator"
   ]
  },
  {
   "cell_type": "code",
   "execution_count": 4,
   "id": "bfd7e0f9-51c7-481f-9e05-789bff680e3f",
   "metadata": {},
   "outputs": [],
   "source": [
    "student['email'] = 'musaifsyed08@example.com'"
   ]
  },
  {
   "cell_type": "code",
   "execution_count": 5,
   "id": "92e10f58-476c-41f0-a912-dcd9fb62e5d3",
   "metadata": {},
   "outputs": [
    {
     "name": "stdout",
     "output_type": "stream",
     "text": [
      "{'name': 'musaif', 'grade': 'A', 'city': 'pune', 'email': 'musaifsyed08@example.com'}\n"
     ]
    }
   ],
   "source": [
    "print(student)"
   ]
  },
  {
   "cell_type": "code",
   "execution_count": null,
   "id": "38e189f6-5a52-4f2b-87ef-1961f070dece",
   "metadata": {},
   "outputs": [],
   "source": [
    "#modify/replace item"
   ]
  },
  {
   "cell_type": "code",
   "execution_count": 6,
   "id": "ea0d3a56-c9df-4cf4-b5b2-e5dcfd4a912f",
   "metadata": {},
   "outputs": [],
   "source": [
    "student['email'] = 'A+'"
   ]
  },
  {
   "cell_type": "code",
   "execution_count": 7,
   "id": "5342c3ec-4bdd-47d1-b073-1a38428b340f",
   "metadata": {},
   "outputs": [
    {
     "name": "stdout",
     "output_type": "stream",
     "text": [
      "{'name': 'musaif', 'grade': 'A', 'city': 'pune', 'email': 'A+'}\n"
     ]
    }
   ],
   "source": [
    "print(student)"
   ]
  },
  {
   "cell_type": "code",
   "execution_count": 9,
   "id": "f458dfba-f0f5-452d-96b3-716f6fe57812",
   "metadata": {},
   "outputs": [],
   "source": [
    "#remove items/ del to remove items"
   ]
  },
  {
   "cell_type": "code",
   "execution_count": 10,
   "id": "856a42c4-bc62-44ac-955b-fd76e427fb9a",
   "metadata": {},
   "outputs": [],
   "source": [
    "del student['grade']"
   ]
  },
  {
   "cell_type": "code",
   "execution_count": 11,
   "id": "54dc2f5d-0adf-4d0c-95f4-1aa0ed782113",
   "metadata": {},
   "outputs": [
    {
     "name": "stdout",
     "output_type": "stream",
     "text": [
      "{'name': 'musaif', 'city': 'pune', 'email': 'A+'}\n"
     ]
    }
   ],
   "source": [
    "print(student)"
   ]
  },
  {
   "cell_type": "code",
   "execution_count": 12,
   "id": "3b568203-adf5-499c-aa8f-9140ed352f45",
   "metadata": {},
   "outputs": [],
   "source": [
    "#pop method"
   ]
  },
  {
   "cell_type": "code",
   "execution_count": 13,
   "id": "8fb692ae-4454-418a-928b-b3b809b47f70",
   "metadata": {},
   "outputs": [],
   "source": [
    "var1 = student.pop('email')"
   ]
  },
  {
   "cell_type": "code",
   "execution_count": 15,
   "id": "5c025884-9632-4808-96f7-c15b90c932b1",
   "metadata": {},
   "outputs": [
    {
     "name": "stdout",
     "output_type": "stream",
     "text": [
      "A+\n",
      "{'name': 'musaif', 'city': 'pune'}\n"
     ]
    }
   ],
   "source": [
    "print(var1)\n",
    "print(student)"
   ]
  },
  {
   "cell_type": "raw",
   "id": "159854a0-10cf-4f90-a454-6908b637809f",
   "metadata": {},
   "source": [
    "#loop through keys "
   ]
  },
  {
   "cell_type": "code",
   "execution_count": 19,
   "id": "760a9bfb-5991-40ef-8c5b-ecdc69e8c04f",
   "metadata": {},
   "outputs": [
    {
     "name": "stdout",
     "output_type": "stream",
     "text": [
      "name\n",
      "city\n"
     ]
    }
   ],
   "source": [
    "for keys in student:\n",
    "    print(keys)"
   ]
  },
  {
   "cell_type": "code",
   "execution_count": 20,
   "id": "e43b5d7c-8aee-4bb6-bf65-d8b3371ce3a3",
   "metadata": {},
   "outputs": [],
   "source": [
    "#loop through values"
   ]
  },
  {
   "cell_type": "code",
   "execution_count": 23,
   "id": "4daad325-344a-4381-ab5d-e6af98d56805",
   "metadata": {},
   "outputs": [
    {
     "name": "stdout",
     "output_type": "stream",
     "text": [
      "musaif\n",
      "pune\n"
     ]
    }
   ],
   "source": [
    "for val in student.values():\n",
    "    print(val)\n"
   ]
  },
  {
   "cell_type": "code",
   "execution_count": 24,
   "id": "484e0e91-d5b7-495d-b45f-f05d0d4592cb",
   "metadata": {},
   "outputs": [],
   "source": [
    "#nested dictionary"
   ]
  },
  {
   "cell_type": "code",
   "execution_count": 30,
   "id": "5adf0c2a-cc8f-44bf-a74d-02a3b317fdf5",
   "metadata": {},
   "outputs": [
    {
     "name": "stdout",
     "output_type": "stream",
     "text": [
      "{'student': {'name': 'musaif', 'age': '20'}}\n"
     ]
    }
   ],
   "source": [
    "main_student = {\n",
    "    'student': {'name': 'musaif', 'age': '20'}\n",
    "}\n",
    "print(main_student)\n"
   ]
  },
  {
   "cell_type": "raw",
   "id": "d4b977a7-638f-47da-b994-1edb3f9ffe93",
   "metadata": {},
   "source": [
    "#dictionary comprehesion"
   ]
  },
  {
   "cell_type": "code",
   "execution_count": 31,
   "id": "e7b75bb9-d0f6-47e2-b69d-284986fc5fb3",
   "metadata": {},
   "outputs": [
    {
     "name": "stdout",
     "output_type": "stream",
     "text": [
      "{1: 1, 2: 4, 3: 9, 4: 16, 5: 25}\n"
     ]
    }
   ],
   "source": [
    "my_dict = {x:x*x for x in range(1,6)}\n",
    "print(my_dict)"
   ]
  },
  {
   "cell_type": "code",
   "execution_count": 32,
   "id": "0afa0a0b-72fd-4abf-add7-79f587a3090f",
   "metadata": {},
   "outputs": [
    {
     "name": "stdout",
     "output_type": "stream",
     "text": [
      "{1: 2, 2: 4, 3: 6, 4: 8, 5: 10}\n"
     ]
    }
   ],
   "source": [
    "my_dict = {x:x+x for x in range(1,6)}\n",
    "print(my_dict)"
   ]
  },
  {
   "cell_type": "code",
   "execution_count": null,
   "id": "bf675fa5-91b7-4167-b5b7-04a2d61b11d3",
   "metadata": {},
   "outputs": [],
   "source": []
  }
 ],
 "metadata": {
  "kernelspec": {
   "display_name": "Python 3 (ipykernel)",
   "language": "python",
   "name": "python3"
  },
  "language_info": {
   "codemirror_mode": {
    "name": "ipython",
    "version": 3
   },
   "file_extension": ".py",
   "mimetype": "text/x-python",
   "name": "python",
   "nbconvert_exporter": "python",
   "pygments_lexer": "ipython3",
   "version": "3.12.7"
  }
 },
 "nbformat": 4,
 "nbformat_minor": 5
}
