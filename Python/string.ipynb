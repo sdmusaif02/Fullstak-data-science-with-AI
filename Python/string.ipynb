{
 "cells": [
  {
   "cell_type": "markdown",
   "id": "6ab1e601-2cc3-4e42-af66-c098477cc0d1",
   "metadata": {},
   "source": [
    "# Manipulating string"
   ]
  },
  {
   "cell_type": "code",
   "execution_count": 1,
   "id": "6061fba6-4dbb-424c-92a6-0471fd2437c3",
   "metadata": {},
   "outputs": [
    {
     "name": "stdout",
     "output_type": "stream",
     "text": [
      "Hello there!\n",
      "How are you?\n",
      "I'm doing fine.\n"
     ]
    }
   ],
   "source": [
    "print(\"Hello there!\\nHow are you?\\nI\\'m doing fine.\") #\\n  for new line..                                                                       1"
   ]
  },
  {
   "cell_type": "code",
   "execution_count": 2,
   "id": "ddec6d4f-80e1-46f2-ac92-fb00e0ad0f37",
   "metadata": {},
   "outputs": [
    {
     "name": "stdout",
     "output_type": "stream",
     "text": [
      "it's ok\n"
     ]
    }
   ],
   "source": [
    "print(\"it\\'s ok\")"
   ]
  },
  {
   "cell_type": "code",
   "execution_count": 3,
   "id": "18b2680c-3a44-4d4a-b4a4-1edc884b85e0",
   "metadata": {},
   "outputs": [
    {
     "name": "stdout",
     "output_type": "stream",
     "text": [
      "it\"s ok\n"
     ]
    }
   ],
   "source": [
    "print('it\\\"s ok')"
   ]
  },
  {
   "cell_type": "code",
   "execution_count": 4,
   "id": "abceabeb-88fa-4810-88e8-7b0ba314fd3e",
   "metadata": {},
   "outputs": [
    {
     "name": "stdout",
     "output_type": "stream",
     "text": [
      "musaif\tsyed\n"
     ]
    }
   ],
   "source": [
    "print(\"musaif\\tsyed\") # \\t for space btwn two words..."
   ]
  },
  {
   "cell_type": "code",
   "execution_count": 7,
   "id": "472d3a71-a3e3-4626-aa17-3d89d101ec34",
   "metadata": {},
   "outputs": [
    {
     "name": "stdout",
     "output_type": "stream",
     "text": [
      "musaif\n"
     ]
    }
   ],
   "source": [
    "print(\"syed\\rmusaif\")"
   ]
  },
  {
   "cell_type": "code",
   "execution_count": 8,
   "id": "84256138-665a-4cb0-a6ad-a49ce5ae36b3",
   "metadata": {},
   "outputs": [
    {
     "name": "stdout",
     "output_type": "stream",
     "text": [
      "Hello there!\\nhow are you?\\nI'm doing fine.\n"
     ]
    }
   ],
   "source": [
    "print(r\"Hello there!\\nhow are you?\\nI'm doing fine.\") #r for row string"
   ]
  },
  {
   "cell_type": "markdown",
   "id": "8ac51f38-c524-4d69-bd76-304f5958b7ca",
   "metadata": {},
   "source": [
    "#multiline string"
   ]
  },
  {
   "cell_type": "code",
   "execution_count": 9,
   "id": "345f8f63-fa65-46e1-bbea-14432d589874",
   "metadata": {},
   "outputs": [
    {
     "name": "stdout",
     "output_type": "stream",
     "text": [
      "hii\n",
      "My Name is musaif,\n",
      "I am graduated,\n",
      "I am pursuing data sci.\n",
      "\n"
     ]
    }
   ],
   "source": [
    "print('''hii\n",
    "My Name is musaif,\n",
    "I am graduated,\n",
    "I am pursuing data sci.\n",
    "''')"
   ]
  },
  {
   "cell_type": "markdown",
   "id": "6f5aa3fe-0af9-40bf-9711-6cbd2aa9ce12",
   "metadata": {},
   "source": [
    "#Indexing"
   ]
  },
  {
   "cell_type": "code",
   "execution_count": 10,
   "id": "feeb8dc1-46e0-4021-afb8-ed376833ed61",
   "metadata": {},
   "outputs": [],
   "source": [
    "a = (\"syed musaif\")"
   ]
  },
  {
   "cell_type": "code",
   "execution_count": 11,
   "id": "6ea69c08-9324-42c0-8408-9b95433611d1",
   "metadata": {},
   "outputs": [
    {
     "data": {
      "text/plain": [
       "'syed musaif'"
      ]
     },
     "execution_count": 11,
     "metadata": {},
     "output_type": "execute_result"
    }
   ],
   "source": [
    "a"
   ]
  },
  {
   "cell_type": "code",
   "execution_count": 12,
   "id": "81f6a9cf-8bc9-465c-89e0-d6bbc84a04c1",
   "metadata": {},
   "outputs": [
    {
     "data": {
      "text/plain": [
       "'s'"
      ]
     },
     "execution_count": 12,
     "metadata": {},
     "output_type": "execute_result"
    }
   ],
   "source": [
    "a[0]"
   ]
  },
  {
   "cell_type": "code",
   "execution_count": 14,
   "id": "8be8acc8-ff8b-4429-ad04-1948bd82ee85",
   "metadata": {},
   "outputs": [
    {
     "data": {
      "text/plain": [
       "'d'"
      ]
     },
     "execution_count": 14,
     "metadata": {},
     "output_type": "execute_result"
    }
   ],
   "source": [
    "a[3]"
   ]
  },
  {
   "cell_type": "code",
   "execution_count": 15,
   "id": "cdd6be5d-9008-4e5a-a8ab-5fdd9350791c",
   "metadata": {},
   "outputs": [
    {
     "data": {
      "text/plain": [
       "'f'"
      ]
     },
     "execution_count": 15,
     "metadata": {},
     "output_type": "execute_result"
    }
   ],
   "source": [
    "a[-1]"
   ]
  },
  {
   "cell_type": "code",
   "execution_count": null,
   "id": "0e0e0cf7-6177-44d1-9db7-2bad3d175934",
   "metadata": {},
   "outputs": [],
   "source": []
  },
  {
   "cell_type": "code",
   "execution_count": 16,
   "id": "b1b2a471-300f-4866-b739-56ae650a16c8",
   "metadata": {},
   "outputs": [
    {
     "data": {
      "text/plain": [
       "'a'"
      ]
     },
     "execution_count": 16,
     "metadata": {},
     "output_type": "execute_result"
    }
   ],
   "source": [
    "a[-3]"
   ]
  },
  {
   "cell_type": "markdown",
   "id": "66958149-7c17-4f15-9ebc-c6d1911cc945",
   "metadata": {},
   "source": [
    "#slicing"
   ]
  },
  {
   "cell_type": "code",
   "execution_count": 18,
   "id": "09ffff7a-a0b8-4af0-ae18-0c58a0cafba0",
   "metadata": {},
   "outputs": [
    {
     "data": {
      "text/plain": [
       "'syed '"
      ]
     },
     "execution_count": 18,
     "metadata": {},
     "output_type": "execute_result"
    }
   ],
   "source": [
    "a[0:5]"
   ]
  },
  {
   "cell_type": "code",
   "execution_count": 19,
   "id": "d45ae5ad-f08c-4a9b-a597-708193566fb7",
   "metadata": {},
   "outputs": [
    {
     "data": {
      "text/plain": [
       "'syed'"
      ]
     },
     "execution_count": 19,
     "metadata": {},
     "output_type": "execute_result"
    }
   ],
   "source": [
    "a[0:4]"
   ]
  },
  {
   "cell_type": "code",
   "execution_count": 20,
   "id": "1d0135de-d541-4d8b-a7ca-4c13da8c6bdf",
   "metadata": {},
   "outputs": [
    {
     "data": {
      "text/plain": [
       "'musaif'"
      ]
     },
     "execution_count": 20,
     "metadata": {},
     "output_type": "execute_result"
    }
   ],
   "source": [
    "a[5:]"
   ]
  },
  {
   "cell_type": "code",
   "execution_count": 21,
   "id": "1fa25902-b3f2-4fa7-ab1d-431fe8c83842",
   "metadata": {},
   "outputs": [
    {
     "data": {
      "text/plain": [
       "'fiasum deys'"
      ]
     },
     "execution_count": 21,
     "metadata": {},
     "output_type": "execute_result"
    }
   ],
   "source": [
    "a[::-1] #revers the str"
   ]
  },
  {
   "cell_type": "code",
   "execution_count": 22,
   "id": "6bec33cb-6115-492a-9f5f-371c9c0efd0b",
   "metadata": {},
   "outputs": [
    {
     "data": {
      "text/plain": [
       "'syed musaif'"
      ]
     },
     "execution_count": 22,
     "metadata": {},
     "output_type": "execute_result"
    }
   ],
   "source": [
    "a"
   ]
  },
  {
   "cell_type": "code",
   "execution_count": 23,
   "id": "34a2288e-4af5-425f-ba95-27e1f6ef38f6",
   "metadata": {},
   "outputs": [],
   "source": [
    "b = (\"fine\")"
   ]
  },
  {
   "cell_type": "code",
   "execution_count": 24,
   "id": "ef41bf69-3cc4-4738-bf62-76df3f8412e6",
   "metadata": {},
   "outputs": [
    {
     "data": {
      "text/plain": [
       "'fine'"
      ]
     },
     "execution_count": 24,
     "metadata": {},
     "output_type": "execute_result"
    }
   ],
   "source": [
    "b"
   ]
  },
  {
   "cell_type": "code",
   "execution_count": 25,
   "id": "0d1832b2-d995-4ec8-8850-1d7a8add13a5",
   "metadata": {},
   "outputs": [
    {
     "ename": "TypeError",
     "evalue": "'str' object does not support item assignment",
     "output_type": "error",
     "traceback": [
      "\u001b[1;31m---------------------------------------------------------------------------\u001b[0m",
      "\u001b[1;31mTypeError\u001b[0m                                 Traceback (most recent call last)",
      "Cell \u001b[1;32mIn[25], line 1\u001b[0m\n\u001b[1;32m----> 1\u001b[0m b[\u001b[38;5;241m0\u001b[39m] \u001b[38;5;241m=\u001b[39m\u001b[38;5;124m\"\u001b[39m\u001b[38;5;124md\u001b[39m\u001b[38;5;124m\"\u001b[39m\n",
      "\u001b[1;31mTypeError\u001b[0m: 'str' object does not support item assignment"
     ]
    }
   ],
   "source": [
    "b[0] =\"d\""
   ]
  },
  {
   "cell_type": "code",
   "execution_count": 26,
   "id": "d1f7eb51-e3b8-4836-9026-45a9425ba871",
   "metadata": {},
   "outputs": [
    {
     "data": {
      "text/plain": [
       "'ine'"
      ]
     },
     "execution_count": 26,
     "metadata": {},
     "output_type": "execute_result"
    }
   ],
   "source": [
    "b[1:]"
   ]
  },
  {
   "cell_type": "code",
   "execution_count": 27,
   "id": "8517f08b-2d9c-4c10-bec0-db19208168fa",
   "metadata": {},
   "outputs": [
    {
     "data": {
      "text/plain": [
       "'dine'"
      ]
     },
     "execution_count": 27,
     "metadata": {},
     "output_type": "execute_result"
    }
   ],
   "source": [
    "\"d\" + b[1:] #change fine into dine"
   ]
  },
  {
   "cell_type": "markdown",
   "id": "f67e71da-965e-4a4b-96ad-68097e110bed",
   "metadata": {},
   "source": [
    "#in or not"
   ]
  },
  {
   "cell_type": "code",
   "execution_count": 28,
   "id": "69dea7b1-eef0-4e87-8047-827776ad5de8",
   "metadata": {},
   "outputs": [
    {
     "data": {
      "text/plain": [
       "True"
      ]
     },
     "execution_count": 28,
     "metadata": {},
     "output_type": "execute_result"
    }
   ],
   "source": [
    "'Hello' in 'Hello World'"
   ]
  },
  {
   "cell_type": "code",
   "execution_count": 29,
   "id": "f67becea-f329-4ba8-a202-6880382250a7",
   "metadata": {},
   "outputs": [
    {
     "data": {
      "text/plain": [
       "False"
      ]
     },
     "execution_count": 29,
     "metadata": {},
     "output_type": "execute_result"
    }
   ],
   "source": [
    "'HELLO' in 'Hello World'"
   ]
  },
  {
   "cell_type": "code",
   "execution_count": 30,
   "id": "453976fe-6fd8-45cd-90ca-21360c23b020",
   "metadata": {},
   "outputs": [
    {
     "data": {
      "text/plain": [
       "True"
      ]
     },
     "execution_count": 30,
     "metadata": {},
     "output_type": "execute_result"
    }
   ],
   "source": [
    "\"hello\" not in \"hii world\""
   ]
  },
  {
   "cell_type": "code",
   "execution_count": 31,
   "id": "354a226b-0e8b-46f9-82c9-38ce01006eaf",
   "metadata": {},
   "outputs": [
    {
     "data": {
      "text/plain": [
       "'syed musaif'"
      ]
     },
     "execution_count": 31,
     "metadata": {},
     "output_type": "execute_result"
    }
   ],
   "source": [
    "a"
   ]
  },
  {
   "cell_type": "code",
   "execution_count": 32,
   "id": "9e40356e-f10a-4c7b-8492-2199edfc264d",
   "metadata": {},
   "outputs": [
    {
     "data": {
      "text/plain": [
       "'SYED MUSAIF'"
      ]
     },
     "execution_count": 32,
     "metadata": {},
     "output_type": "execute_result"
    }
   ],
   "source": [
    "a.upper()"
   ]
  },
  {
   "cell_type": "code",
   "execution_count": 33,
   "id": "a5ccf7fe-1821-4174-95a0-cd87ed0c6fdc",
   "metadata": {},
   "outputs": [
    {
     "data": {
      "text/plain": [
       "'syed musaif'"
      ]
     },
     "execution_count": 33,
     "metadata": {},
     "output_type": "execute_result"
    }
   ],
   "source": [
    "a.lower()"
   ]
  },
  {
   "cell_type": "code",
   "execution_count": 34,
   "id": "85e307cb-b8a1-472f-8f17-406c484f6675",
   "metadata": {},
   "outputs": [
    {
     "data": {
      "text/plain": [
       "False"
      ]
     },
     "execution_count": 34,
     "metadata": {},
     "output_type": "execute_result"
    }
   ],
   "source": [
    "a.isupper()"
   ]
  },
  {
   "cell_type": "code",
   "execution_count": 35,
   "id": "e277a581-f6f0-4710-bf8a-f3c955c9b85b",
   "metadata": {},
   "outputs": [
    {
     "data": {
      "text/plain": [
       "True"
      ]
     },
     "execution_count": 35,
     "metadata": {},
     "output_type": "execute_result"
    }
   ],
   "source": [
    "a.islower()"
   ]
  },
  {
   "cell_type": "code",
   "execution_count": 36,
   "id": "24d409b9-93d0-4924-957c-4199e82097ec",
   "metadata": {},
   "outputs": [],
   "source": [
    "b = \"123abc\""
   ]
  },
  {
   "cell_type": "code",
   "execution_count": 37,
   "id": "bb15c7a9-ba3d-4b36-aeee-c6ff2dcb245f",
   "metadata": {},
   "outputs": [
    {
     "data": {
      "text/plain": [
       "'123abc'"
      ]
     },
     "execution_count": 37,
     "metadata": {},
     "output_type": "execute_result"
    }
   ],
   "source": [
    "b"
   ]
  },
  {
   "cell_type": "code",
   "execution_count": 38,
   "id": "59e696e9-2d74-462c-9a2c-287f65d553fd",
   "metadata": {},
   "outputs": [
    {
     "data": {
      "text/plain": [
       "False"
      ]
     },
     "execution_count": 38,
     "metadata": {},
     "output_type": "execute_result"
    }
   ],
   "source": [
    "b.isalpha() # return 'true' if the string consists only of letters."
   ]
  },
  {
   "cell_type": "code",
   "execution_count": 39,
   "id": "d8fda1f4-49e1-487f-aef0-6e68b3e03524",
   "metadata": {},
   "outputs": [],
   "source": [
    "b = \"123\""
   ]
  },
  {
   "cell_type": "code",
   "execution_count": 40,
   "id": "c838f441-055d-45b4-8ba6-4f2819bc7cd2",
   "metadata": {},
   "outputs": [
    {
     "data": {
      "text/plain": [
       "'123'"
      ]
     },
     "execution_count": 40,
     "metadata": {},
     "output_type": "execute_result"
    }
   ],
   "source": [
    "b"
   ]
  },
  {
   "cell_type": "code",
   "execution_count": 41,
   "id": "331733da-0956-4146-9407-52efe6d47a86",
   "metadata": {},
   "outputs": [
    {
     "data": {
      "text/plain": [
       "True"
      ]
     },
     "execution_count": 41,
     "metadata": {},
     "output_type": "execute_result"
    }
   ],
   "source": [
    "b.isnumeric()"
   ]
  },
  {
   "cell_type": "code",
   "execution_count": 42,
   "id": "7cb024ab-8877-4487-b462-2457ff2ae7b1",
   "metadata": {},
   "outputs": [
    {
     "data": {
      "text/plain": [
       "'syed musaif'"
      ]
     },
     "execution_count": 42,
     "metadata": {},
     "output_type": "execute_result"
    }
   ],
   "source": [
    "a"
   ]
  },
  {
   "cell_type": "code",
   "execution_count": 47,
   "id": "793a2e7e-0163-4fc4-b6c3-62a8f03fd79b",
   "metadata": {},
   "outputs": [
    {
     "data": {
      "text/plain": [
       "False"
      ]
     },
     "execution_count": 47,
     "metadata": {},
     "output_type": "execute_result"
    }
   ],
   "source": [
    "a.startswith('a')"
   ]
  },
  {
   "cell_type": "code",
   "execution_count": 48,
   "id": "27778b07-321e-4483-bea8-d75e47f7d534",
   "metadata": {},
   "outputs": [
    {
     "ename": "NameError",
     "evalue": "name 'r' is not defined",
     "output_type": "error",
     "traceback": [
      "\u001b[1;31m---------------------------------------------------------------------------\u001b[0m",
      "\u001b[1;31mNameError\u001b[0m                                 Traceback (most recent call last)",
      "Cell \u001b[1;32mIn[48], line 1\u001b[0m\n\u001b[1;32m----> 1\u001b[0m a\u001b[38;5;241m.\u001b[39mstartswith(r)\n",
      "\u001b[1;31mNameError\u001b[0m: name 'r' is not defined"
     ]
    }
   ],
   "source": [
    "a.startswith(r)"
   ]
  },
  {
   "cell_type": "code",
   "execution_count": 49,
   "id": "82365f24-e59c-4e6d-823a-1b5a4d7b2e06",
   "metadata": {},
   "outputs": [
    {
     "data": {
      "text/plain": [
       "'syed musaif'"
      ]
     },
     "execution_count": 49,
     "metadata": {},
     "output_type": "execute_result"
    }
   ],
   "source": [
    "a"
   ]
  },
  {
   "cell_type": "code",
   "execution_count": 50,
   "id": "8a6d759d-7dd5-4aad-98b2-f225cd2bdd02",
   "metadata": {},
   "outputs": [
    {
     "data": {
      "text/plain": [
       "False"
      ]
     },
     "execution_count": 50,
     "metadata": {},
     "output_type": "execute_result"
    }
   ],
   "source": [
    "a.endswith('b')"
   ]
  },
  {
   "cell_type": "code",
   "execution_count": 51,
   "id": "ad0fe13d-6c8a-4d5c-858c-970c45cc6608",
   "metadata": {},
   "outputs": [
    {
     "data": {
      "text/plain": [
       "['My', 'name', 'is', 'musaif']"
      ]
     },
     "execution_count": 51,
     "metadata": {},
     "output_type": "execute_result"
    }
   ],
   "source": [
    "list = (['My','name','is','musaif'])\n",
    "list"
   ]
  },
  {
   "cell_type": "code",
   "execution_count": 52,
   "id": "c5d39a74-e540-4fe7-a302-135014cc32f9",
   "metadata": {},
   "outputs": [
    {
     "data": {
      "text/plain": [
       "'Mynameismusaif'"
      ]
     },
     "execution_count": 52,
     "metadata": {},
     "output_type": "execute_result"
    }
   ],
   "source": [
    "''.join(list)"
   ]
  },
  {
   "cell_type": "code",
   "execution_count": 53,
   "id": "81abeea2-fa7c-4f81-8a62-1ef8cbc929b8",
   "metadata": {},
   "outputs": [
    {
     "data": {
      "text/plain": [
       "'syed musaif'"
      ]
     },
     "execution_count": 53,
     "metadata": {},
     "output_type": "execute_result"
    }
   ],
   "source": [
    "a"
   ]
  },
  {
   "cell_type": "code",
   "execution_count": 54,
   "id": "d9026500-e3a5-4f21-a441-7f8d56acbc7c",
   "metadata": {},
   "outputs": [
    {
     "data": {
      "text/plain": [
       "['syed', 'musaif']"
      ]
     },
     "execution_count": 54,
     "metadata": {},
     "output_type": "execute_result"
    }
   ],
   "source": [
    "a.split()"
   ]
  },
  {
   "cell_type": "markdown",
   "id": "5e9dc6d8-9101-4e05-b908-147c6c5bb9a2",
   "metadata": {},
   "source": [
    "#justifying"
   ]
  },
  {
   "cell_type": "code",
   "execution_count": 56,
   "id": "4e8c263c-5770-46d6-a43d-85eab95c2ca1",
   "metadata": {},
   "outputs": [],
   "source": [
    "x = \"musaif\""
   ]
  },
  {
   "cell_type": "code",
   "execution_count": 57,
   "id": "6d1d7c4d-7740-4fdc-955d-0b15c49dfddb",
   "metadata": {},
   "outputs": [
    {
     "data": {
      "text/plain": [
       "'musaif'"
      ]
     },
     "execution_count": 57,
     "metadata": {},
     "output_type": "execute_result"
    }
   ],
   "source": [
    "x"
   ]
  },
  {
   "cell_type": "code",
   "execution_count": 59,
   "id": "a2772393-9d14-41b1-894c-4a43e7921be1",
   "metadata": {},
   "outputs": [
    {
     "data": {
      "text/plain": [
       "'    musaif'"
      ]
     },
     "execution_count": 59,
     "metadata": {},
     "output_type": "execute_result"
    }
   ],
   "source": [
    "x.rjust(10)"
   ]
  },
  {
   "cell_type": "code",
   "execution_count": 60,
   "id": "4aeaf6d5-7821-41c6-9b69-1cacc01bba71",
   "metadata": {},
   "outputs": [
    {
     "data": {
      "text/plain": [
       "'musaif    '"
      ]
     },
     "execution_count": 60,
     "metadata": {},
     "output_type": "execute_result"
    }
   ],
   "source": [
    "x.ljust(10)"
   ]
  },
  {
   "cell_type": "code",
   "execution_count": 61,
   "id": "f3e35202-7027-4120-8e28-0a70fe970d6d",
   "metadata": {},
   "outputs": [
    {
     "data": {
      "text/plain": [
       "'  musaif  '"
      ]
     },
     "execution_count": 61,
     "metadata": {},
     "output_type": "execute_result"
    }
   ],
   "source": [
    "x.center(10)"
   ]
  },
  {
   "cell_type": "code",
   "execution_count": 62,
   "id": "f050aad3-c2fd-47ab-ad30-dd733ce9e928",
   "metadata": {},
   "outputs": [
    {
     "data": {
      "text/plain": [
       "'==============musaif'"
      ]
     },
     "execution_count": 62,
     "metadata": {},
     "output_type": "execute_result"
    }
   ],
   "source": [
    "x.rjust(20,'=')"
   ]
  },
  {
   "cell_type": "code",
   "execution_count": 63,
   "id": "37cc97b2-b3cf-4cc5-a88f-2e2480dd9a79",
   "metadata": {},
   "outputs": [
    {
     "data": {
      "text/plain": [
       "'musaif**************'"
      ]
     },
     "execution_count": 63,
     "metadata": {},
     "output_type": "execute_result"
    }
   ],
   "source": [
    "x.ljust(20,'*')"
   ]
  },
  {
   "cell_type": "code",
   "execution_count": 64,
   "id": "d1c29e68-9730-42df-9fb6-f6622d6c36a5",
   "metadata": {},
   "outputs": [
    {
     "data": {
      "text/plain": [
       "'=======musaif======='"
      ]
     },
     "execution_count": 64,
     "metadata": {},
     "output_type": "execute_result"
    }
   ],
   "source": [
    "x.center(20,'=')"
   ]
  },
  {
   "cell_type": "code",
   "execution_count": 65,
   "id": "a9d8d6e2-84e7-47f8-8c1c-a42c63558e5a",
   "metadata": {},
   "outputs": [],
   "source": [
    "y = \"    musaif    \""
   ]
  },
  {
   "cell_type": "code",
   "execution_count": 66,
   "id": "24c271bf-9ead-43b9-879f-cafc15d827e8",
   "metadata": {},
   "outputs": [
    {
     "data": {
      "text/plain": [
       "'    musaif    '"
      ]
     },
     "execution_count": 66,
     "metadata": {},
     "output_type": "execute_result"
    }
   ],
   "source": [
    "y"
   ]
  },
  {
   "cell_type": "code",
   "execution_count": 67,
   "id": "2d323c30-ac13-4908-9c3d-04e342df97c3",
   "metadata": {},
   "outputs": [
    {
     "data": {
      "text/plain": [
       "'    musaif'"
      ]
     },
     "execution_count": 67,
     "metadata": {},
     "output_type": "execute_result"
    }
   ],
   "source": [
    "y.rstrip()"
   ]
  },
  {
   "cell_type": "code",
   "execution_count": 68,
   "id": "d1078462-f481-408d-8dc1-0df4fc33b119",
   "metadata": {},
   "outputs": [
    {
     "data": {
      "text/plain": [
       "'musaif    '"
      ]
     },
     "execution_count": 68,
     "metadata": {},
     "output_type": "execute_result"
    }
   ],
   "source": [
    "y.lstrip()"
   ]
  },
  {
   "cell_type": "code",
   "execution_count": 69,
   "id": "ee74357f-4c85-461f-b2df-a7b7bffdccbe",
   "metadata": {},
   "outputs": [
    {
     "data": {
      "text/plain": [
       "'musaif'"
      ]
     },
     "execution_count": 69,
     "metadata": {},
     "output_type": "execute_result"
    }
   ],
   "source": [
    "y.strip()"
   ]
  },
  {
   "cell_type": "code",
   "execution_count": 70,
   "id": "abbb31f6-9669-48bd-8147-535a43950fc5",
   "metadata": {},
   "outputs": [],
   "source": [
    "z = \"i am learning data science\""
   ]
  },
  {
   "cell_type": "code",
   "execution_count": 71,
   "id": "ef3deb89-471e-4ef6-95dd-9eb8325adfc3",
   "metadata": {},
   "outputs": [
    {
     "data": {
      "text/plain": [
       "'i am learning data science'"
      ]
     },
     "execution_count": 71,
     "metadata": {},
     "output_type": "execute_result"
    }
   ],
   "source": [
    "z"
   ]
  },
  {
   "cell_type": "code",
   "execution_count": 72,
   "id": "6b116ef3-cfc4-410c-9511-9bf44d011ef4",
   "metadata": {},
   "outputs": [
    {
     "data": {
      "text/plain": [
       "4"
      ]
     },
     "execution_count": 72,
     "metadata": {},
     "output_type": "execute_result"
    }
   ],
   "source": [
    "z.count('a')"
   ]
  },
  {
   "cell_type": "code",
   "execution_count": 73,
   "id": "cc100ff0-f0b8-48e1-8220-5719b975ae77",
   "metadata": {},
   "outputs": [
    {
     "data": {
      "text/plain": [
       "26"
      ]
     },
     "execution_count": 73,
     "metadata": {},
     "output_type": "execute_result"
    }
   ],
   "source": [
    "len(z)"
   ]
  },
  {
   "cell_type": "code",
   "execution_count": 74,
   "id": "71febb71-47c5-428b-ba9d-4dc20d17384b",
   "metadata": {},
   "outputs": [
    {
     "data": {
      "text/plain": [
       "'i am learning data science'"
      ]
     },
     "execution_count": 74,
     "metadata": {},
     "output_type": "execute_result"
    }
   ],
   "source": [
    "z"
   ]
  },
  {
   "cell_type": "code",
   "execution_count": 76,
   "id": "e9a18c3c-1f12-4ea2-9978-d6286c1400f6",
   "metadata": {},
   "outputs": [
    {
     "data": {
      "text/plain": [
       "'i am learning data science'"
      ]
     },
     "execution_count": 76,
     "metadata": {},
     "output_type": "execute_result"
    }
   ],
   "source": [
    "z.replace('I am' , 'we are')"
   ]
  },
  {
   "cell_type": "code",
   "execution_count": 77,
   "id": "30651caf-7623-408d-ab4d-f1d07fcc781d",
   "metadata": {},
   "outputs": [
    {
     "data": {
      "text/plain": [
       "'    musaif    '"
      ]
     },
     "execution_count": 77,
     "metadata": {},
     "output_type": "execute_result"
    }
   ],
   "source": [
    "y.capitalize()"
   ]
  },
  {
   "cell_type": "code",
   "execution_count": 78,
   "id": "8a4bd2bf-ff69-4b5e-a02d-aabfbb0b79fa",
   "metadata": {},
   "outputs": [
    {
     "data": {
      "text/plain": [
       "'    MUSAIF    '"
      ]
     },
     "execution_count": 78,
     "metadata": {},
     "output_type": "execute_result"
    }
   ],
   "source": [
    "y.swapcase()"
   ]
  },
  {
   "cell_type": "markdown",
   "id": "8d99171f-7617-409b-9964-095581ef9b7f",
   "metadata": {},
   "source": [
    "# Concatination"
   ]
  },
  {
   "cell_type": "code",
   "execution_count": 79,
   "id": "9f6432ff-d328-42ab-833a-81925eeb3aef",
   "metadata": {},
   "outputs": [
    {
     "data": {
      "text/plain": [
       "'hellomusaif'"
      ]
     },
     "execution_count": 79,
     "metadata": {},
     "output_type": "execute_result"
    }
   ],
   "source": [
    "'hello' + 'musaif'"
   ]
  },
  {
   "cell_type": "code",
   "execution_count": 80,
   "id": "14416f15-d21e-417c-9b92-e4661a82c280",
   "metadata": {},
   "outputs": [
    {
     "data": {
      "text/plain": [
       "'musaifmusaifmusaifmusaifmusaif'"
      ]
     },
     "execution_count": 80,
     "metadata": {},
     "output_type": "execute_result"
    }
   ],
   "source": [
    "x * 5"
   ]
  },
  {
   "cell_type": "code",
   "execution_count": 81,
   "id": "5e20d9a9-36e2-4366-bd81-7fe0d7215b6c",
   "metadata": {},
   "outputs": [
    {
     "data": {
      "text/plain": [
       "'musaif musaif musaif musaif musaif musaif '"
      ]
     },
     "execution_count": 81,
     "metadata": {},
     "output_type": "execute_result"
    }
   ],
   "source": [
    "'musaif ' * 6"
   ]
  },
  {
   "cell_type": "code",
   "execution_count": 82,
   "id": "4ffb2259-db91-45bb-b1ea-5202cec9e1e0",
   "metadata": {},
   "outputs": [
    {
     "data": {
      "text/plain": [
       "'i am learning data science'"
      ]
     },
     "execution_count": 82,
     "metadata": {},
     "output_type": "execute_result"
    }
   ],
   "source": [
    "z"
   ]
  },
  {
   "cell_type": "code",
   "execution_count": 83,
   "id": "51bfa033-6910-48b2-95ae-d4e5f03f55ed",
   "metadata": {},
   "outputs": [
    {
     "data": {
      "text/plain": [
       "('i am ', 'learning', ' data science')"
      ]
     },
     "execution_count": 83,
     "metadata": {},
     "output_type": "execute_result"
    }
   ],
   "source": [
    "z.partition('learning')"
   ]
  }
 ],
 "metadata": {
  "kernelspec": {
   "display_name": "Python 3 (ipykernel)",
   "language": "python",
   "name": "python3"
  },
  "language_info": {
   "codemirror_mode": {
    "name": "ipython",
    "version": 3
   },
   "file_extension": ".py",
   "mimetype": "text/x-python",
   "name": "python",
   "nbconvert_exporter": "python",
   "pygments_lexer": "ipython3",
   "version": "3.12.7"
  }
 },
 "nbformat": 4,
 "nbformat_minor": 5
}
